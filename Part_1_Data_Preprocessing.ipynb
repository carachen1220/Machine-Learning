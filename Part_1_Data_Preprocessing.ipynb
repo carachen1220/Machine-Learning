{
  "nbformat": 4,
  "nbformat_minor": 0,
  "metadata": {
    "colab": {
      "provenance": [],
      "authorship_tag": "ABX9TyP+vtgzLW38d6eC0PfDNCv8",
      "include_colab_link": true
    },
    "kernelspec": {
      "name": "python3",
      "display_name": "Python 3"
    },
    "language_info": {
      "name": "python"
    }
  },
  "cells": [
    {
      "cell_type": "markdown",
      "metadata": {
        "id": "view-in-github",
        "colab_type": "text"
      },
      "source": [
        "<a href=\"https://colab.research.google.com/github/carachen1220/Machine-Learning/blob/main/Part_1_Data_Preprocessing.ipynb\" target=\"_parent\"><img src=\"https://colab.research.google.com/assets/colab-badge.svg\" alt=\"Open In Colab\"/></a>"
      ]
    },
    {
      "cell_type": "markdown",
      "source": [
        "Data Preprocessing\n",
        "\n",
        "\n",
        "> Importing the Libraries\n",
        "\n"
      ],
      "metadata": {
        "id": "ifgBt6LtmiKx"
      }
    },
    {
      "cell_type": "code",
      "source": [
        "import numpy as np\n",
        "import matplotlib.pyplot as plt\n",
        "import pandas as pd"
      ],
      "metadata": {
        "id": "tRoryCzJm8Qc"
      },
      "execution_count": null,
      "outputs": []
    },
    {
      "cell_type": "markdown",
      "source": [
        "\n",
        "\n",
        "> Importing the Dataset\n",
        "\n"
      ],
      "metadata": {
        "id": "fhGssId8neVN"
      }
    },
    {
      "cell_type": "code",
      "source": [
        "dataset = pd.read_csv('Data.csv')\n",
        "X = dataset.iloc[:,:-1].values #data.iloc[row_indices, column_indices]\n",
        "Y ="
      ],
      "metadata": {
        "id": "wcQ0tZGynnSu"
      },
      "execution_count": null,
      "outputs": []
    }
  ]
}